{
 "cells": [
  {
   "cell_type": "markdown",
   "metadata": {},
   "source": [
    "# NAME : Ritvik Khandelwal\n",
    "# SAP ID : 60002180081\n",
    "# CLASS : TE EXTC 2"
   ]
  },
  {
   "cell_type": "code",
   "execution_count": 1,
   "metadata": {},
   "outputs": [],
   "source": [
    "import numpy as np\n",
    "import pandas as pd\n",
    "import matplotlib.pyplot as plt\n",
    "import seaborn as sns\n",
    "import time"
   ]
  },
  {
   "cell_type": "code",
   "execution_count": 2,
   "metadata": {},
   "outputs": [],
   "source": [
    "tips_data=sns.load_dataset('tips')"
   ]
  },
  {
   "cell_type": "code",
   "execution_count": 3,
   "metadata": {},
   "outputs": [
    {
     "data": {
      "text/html": [
       "<div>\n",
       "<style scoped>\n",
       "    .dataframe tbody tr th:only-of-type {\n",
       "        vertical-align: middle;\n",
       "    }\n",
       "\n",
       "    .dataframe tbody tr th {\n",
       "        vertical-align: top;\n",
       "    }\n",
       "\n",
       "    .dataframe thead th {\n",
       "        text-align: right;\n",
       "    }\n",
       "</style>\n",
       "<table border=\"1\" class=\"dataframe\">\n",
       "  <thead>\n",
       "    <tr style=\"text-align: right;\">\n",
       "      <th></th>\n",
       "      <th>total_bill</th>\n",
       "      <th>tip</th>\n",
       "      <th>sex</th>\n",
       "      <th>smoker</th>\n",
       "      <th>day</th>\n",
       "      <th>time</th>\n",
       "      <th>size</th>\n",
       "    </tr>\n",
       "  </thead>\n",
       "  <tbody>\n",
       "    <tr>\n",
       "      <th>0</th>\n",
       "      <td>16.99</td>\n",
       "      <td>1.01</td>\n",
       "      <td>Female</td>\n",
       "      <td>No</td>\n",
       "      <td>Sun</td>\n",
       "      <td>Dinner</td>\n",
       "      <td>2</td>\n",
       "    </tr>\n",
       "    <tr>\n",
       "      <th>1</th>\n",
       "      <td>10.34</td>\n",
       "      <td>1.66</td>\n",
       "      <td>Male</td>\n",
       "      <td>No</td>\n",
       "      <td>Sun</td>\n",
       "      <td>Dinner</td>\n",
       "      <td>3</td>\n",
       "    </tr>\n",
       "    <tr>\n",
       "      <th>2</th>\n",
       "      <td>21.01</td>\n",
       "      <td>3.50</td>\n",
       "      <td>Male</td>\n",
       "      <td>No</td>\n",
       "      <td>Sun</td>\n",
       "      <td>Dinner</td>\n",
       "      <td>3</td>\n",
       "    </tr>\n",
       "    <tr>\n",
       "      <th>3</th>\n",
       "      <td>23.68</td>\n",
       "      <td>3.31</td>\n",
       "      <td>Male</td>\n",
       "      <td>No</td>\n",
       "      <td>Sun</td>\n",
       "      <td>Dinner</td>\n",
       "      <td>2</td>\n",
       "    </tr>\n",
       "    <tr>\n",
       "      <th>4</th>\n",
       "      <td>24.59</td>\n",
       "      <td>3.61</td>\n",
       "      <td>Female</td>\n",
       "      <td>No</td>\n",
       "      <td>Sun</td>\n",
       "      <td>Dinner</td>\n",
       "      <td>4</td>\n",
       "    </tr>\n",
       "  </tbody>\n",
       "</table>\n",
       "</div>"
      ],
      "text/plain": [
       "   total_bill   tip     sex smoker  day    time  size\n",
       "0       16.99  1.01  Female     No  Sun  Dinner     2\n",
       "1       10.34  1.66    Male     No  Sun  Dinner     3\n",
       "2       21.01  3.50    Male     No  Sun  Dinner     3\n",
       "3       23.68  3.31    Male     No  Sun  Dinner     2\n",
       "4       24.59  3.61  Female     No  Sun  Dinner     4"
      ]
     },
     "execution_count": 3,
     "metadata": {},
     "output_type": "execute_result"
    }
   ],
   "source": [
    "tips_data.head()"
   ]
  },
  {
   "cell_type": "code",
   "execution_count": 4,
   "metadata": {
    "scrolled": true
   },
   "outputs": [
    {
     "data": {
      "text/html": [
       "<div>\n",
       "<style scoped>\n",
       "    .dataframe tbody tr th:only-of-type {\n",
       "        vertical-align: middle;\n",
       "    }\n",
       "\n",
       "    .dataframe tbody tr th {\n",
       "        vertical-align: top;\n",
       "    }\n",
       "\n",
       "    .dataframe thead th {\n",
       "        text-align: right;\n",
       "    }\n",
       "</style>\n",
       "<table border=\"1\" class=\"dataframe\">\n",
       "  <thead>\n",
       "    <tr style=\"text-align: right;\">\n",
       "      <th></th>\n",
       "      <th>total_bill</th>\n",
       "      <th>tip</th>\n",
       "      <th>size</th>\n",
       "    </tr>\n",
       "  </thead>\n",
       "  <tbody>\n",
       "    <tr>\n",
       "      <th>count</th>\n",
       "      <td>244.000000</td>\n",
       "      <td>244.000000</td>\n",
       "      <td>244.000000</td>\n",
       "    </tr>\n",
       "    <tr>\n",
       "      <th>mean</th>\n",
       "      <td>19.785943</td>\n",
       "      <td>2.998279</td>\n",
       "      <td>2.569672</td>\n",
       "    </tr>\n",
       "    <tr>\n",
       "      <th>std</th>\n",
       "      <td>8.902412</td>\n",
       "      <td>1.383638</td>\n",
       "      <td>0.951100</td>\n",
       "    </tr>\n",
       "    <tr>\n",
       "      <th>min</th>\n",
       "      <td>3.070000</td>\n",
       "      <td>1.000000</td>\n",
       "      <td>1.000000</td>\n",
       "    </tr>\n",
       "    <tr>\n",
       "      <th>25%</th>\n",
       "      <td>13.347500</td>\n",
       "      <td>2.000000</td>\n",
       "      <td>2.000000</td>\n",
       "    </tr>\n",
       "    <tr>\n",
       "      <th>50%</th>\n",
       "      <td>17.795000</td>\n",
       "      <td>2.900000</td>\n",
       "      <td>2.000000</td>\n",
       "    </tr>\n",
       "    <tr>\n",
       "      <th>75%</th>\n",
       "      <td>24.127500</td>\n",
       "      <td>3.562500</td>\n",
       "      <td>3.000000</td>\n",
       "    </tr>\n",
       "    <tr>\n",
       "      <th>max</th>\n",
       "      <td>50.810000</td>\n",
       "      <td>10.000000</td>\n",
       "      <td>6.000000</td>\n",
       "    </tr>\n",
       "  </tbody>\n",
       "</table>\n",
       "</div>"
      ],
      "text/plain": [
       "       total_bill         tip        size\n",
       "count  244.000000  244.000000  244.000000\n",
       "mean    19.785943    2.998279    2.569672\n",
       "std      8.902412    1.383638    0.951100\n",
       "min      3.070000    1.000000    1.000000\n",
       "25%     13.347500    2.000000    2.000000\n",
       "50%     17.795000    2.900000    2.000000\n",
       "75%     24.127500    3.562500    3.000000\n",
       "max     50.810000   10.000000    6.000000"
      ]
     },
     "execution_count": 4,
     "metadata": {},
     "output_type": "execute_result"
    }
   ],
   "source": [
    "tips_data.describe()"
   ]
  },
  {
   "cell_type": "code",
   "execution_count": 5,
   "metadata": {},
   "outputs": [
    {
     "data": {
      "image/png": "[encoded data removed]",
      "text/plain": [
       "<Figure size 432x288 with 1 Axes>"
      ]
     },
     "metadata": {
      "needs_background": "light"
     },
     "output_type": "display_data"
    }
   ],
   "source": [
    "sns.boxplot(tips_data['tip']).set_title('box plot of the total bill')\n",
    "plt.show()"
   ]
  },
  {
   "cell_type": "code",
   "execution_count": 6,
   "metadata": {},
   "outputs": [
    {
     "data": {
      "image/png": "[encoded data removed]",
      "text/plain": [
       "<Figure size 432x288 with 1 Axes>"
      ]
     },
     "metadata": {
      "needs_background": "light"
     },
     "output_type": "display_data"
    }
   ],
   "source": [
    "sns.boxplot(tips_data['total_bill']).set_title('box plot of the total bill')\n",
    "plt.show()"
   ]
  },
  {
   "cell_type": "code",
   "execution_count": 8,
   "metadata": {},
   "outputs": [
    {
     "data": {
      "text/plain": [
       "0      1.01\n",
       "1      1.66\n",
       "2      3.50\n",
       "3      3.31\n",
       "4      3.61\n",
       "       ... \n",
       "239    5.92\n",
       "240    2.00\n",
       "241    2.00\n",
       "242    1.75\n",
       "243    3.00\n",
       "Name: tip, Length: 244, dtype: float64"
      ]
     },
     "execution_count": 8,
     "metadata": {},
     "output_type": "execute_result"
    }
   ],
   "source": [
    "data=tips_data['tip']\n",
    "data"
   ]
  },
  {
   "cell_type": "code",
   "execution_count": 10,
   "metadata": {},
   "outputs": [
    {
     "name": "stdout",
     "output_type": "stream",
     "text": [
      "2.0\n",
      "3.5624999999999996\n"
     ]
    }
   ],
   "source": [
    "q1=np.percentile(data,25)\n",
    "q3=np.percentile(data,75)\n",
    "print(q1)\n",
    "print(q3)"
   ]
  },
  {
   "cell_type": "code",
   "execution_count": 11,
   "metadata": {},
   "outputs": [
    {
     "data": {
      "text/plain": [
       "1.5624999999999996"
      ]
     },
     "execution_count": 11,
     "metadata": {},
     "output_type": "execute_result"
    }
   ],
   "source": [
    "iqr=q3-q1\n",
    "iqr"
   ]
  },
  {
   "cell_type": "code",
   "execution_count": 12,
   "metadata": {},
   "outputs": [
    {
     "data": {
      "text/plain": [
       "(-0.3437499999999991, 5.906249999999998)"
      ]
     },
     "execution_count": 12,
     "metadata": {},
     "output_type": "execute_result"
    }
   ],
   "source": [
    "lb=q1-(1.5*iqr)\n",
    "ub=q3+(1.5*iqr)\n",
    "lb,ub"
   ]
  },
  {
   "cell_type": "code",
   "execution_count": 18,
   "metadata": {},
   "outputs": [],
   "source": [
    "outliers=[]\n",
    "def detect_outliers(data):\n",
    "    for i in data:\n",
    "        if i<=lb or i>=ub:\n",
    "            outliers.append(i)\n",
    "    return outliers\n",
    "            "
   ]
  },
  {
   "cell_type": "code",
   "execution_count": 21,
   "metadata": {},
   "outputs": [
    {
     "data": {
      "text/plain": [
       "array([ 5.92,  6.  ,  6.5 ,  6.7 ,  6.73,  7.58,  9.  , 10.  ])"
      ]
     },
     "execution_count": 21,
     "metadata": {},
     "output_type": "execute_result"
    }
   ],
   "source": [
    "out=np.unique(detect_outliers(tips_data['tip']))\n",
    "out\n"
   ]
  },
  {
   "cell_type": "code",
   "execution_count": null,
   "metadata": {},
   "outputs": [],
   "source": [
    "#alternate\n",
    "y=set(outliers)#set also gives unique values\n",
    "y"
   ]
  },
  {
   "cell_type": "code",
   "execution_count": 29,
   "metadata": {},
   "outputs": [
    {
     "data": {
      "text/plain": [
       "0      16.99\n",
       "1      10.34\n",
       "2      21.01\n",
       "3      23.68\n",
       "4      24.59\n",
       "       ...  \n",
       "239    29.03\n",
       "240    27.18\n",
       "241    22.67\n",
       "242    17.82\n",
       "243    18.78\n",
       "Name: total_bill, Length: 244, dtype: float64"
      ]
     },
     "execution_count": 29,
     "metadata": {},
     "output_type": "execute_result"
    }
   ],
   "source": [
    "data1=tips_data['total_bill']\n",
    "data1"
   ]
  },
  {
   "cell_type": "code",
   "execution_count": 30,
   "metadata": {},
   "outputs": [
    {
     "name": "stdout",
     "output_type": "stream",
     "text": [
      "13.3475\n",
      "24.127499999999998\n"
     ]
    }
   ],
   "source": [
    "q1=np.percentile(data1,25)\n",
    "q3=np.percentile(data1,75)\n",
    "print(q1)\n",
    "print(q3)"
   ]
  },
  {
   "cell_type": "code",
   "execution_count": 31,
   "metadata": {},
   "outputs": [
    {
     "data": {
      "text/plain": [
       "10.779999999999998"
      ]
     },
     "execution_count": 31,
     "metadata": {},
     "output_type": "execute_result"
    }
   ],
   "source": [
    "iqr=q3-q1\n",
    "iqr"
   ]
  },
  {
   "cell_type": "code",
   "execution_count": 32,
   "metadata": {},
   "outputs": [
    {
     "data": {
      "text/plain": [
       "(-2.8224999999999945, 40.29749999999999)"
      ]
     },
     "execution_count": 32,
     "metadata": {},
     "output_type": "execute_result"
    }
   ],
   "source": [
    "lb=q1-(1.5*iqr)\n",
    "ub=q3+(1.5*iqr)\n",
    "lb,ub"
   ]
  },
  {
   "cell_type": "code",
   "execution_count": 36,
   "metadata": {},
   "outputs": [],
   "source": [
    "outliers1=[]\n",
    "def detect_outliers1(data1):\n",
    "    for i in data1:\n",
    "        if i<=lb or i>=ub:\n",
    "            outliers1.append(i)\n",
    "    return outliers1\n",
    "            "
   ]
  },
  {
   "cell_type": "code",
   "execution_count": 38,
   "metadata": {},
   "outputs": [
    {
     "name": "stdout",
     "output_type": "stream",
     "text": [
      "[40.55 41.19 43.11 44.3  45.35 48.17 48.27 48.33 50.81]\n"
     ]
    }
   ],
   "source": [
    "out1=np.unique(detect_outliers1(tips_data['total_bill']))\n",
    "print(out1)"
   ]
  },
  {
   "cell_type": "code",
   "execution_count": 44,
   "metadata": {},
   "outputs": [
    {
     "name": "stdout",
     "output_type": "stream",
     "text": [
      "2.9982786885245902\n",
      "1.3807999538298958\n"
     ]
    }
   ],
   "source": [
    "mean=np.mean(tips_data['tip'])\n",
    "print(mean)\n",
    "std=np.std(tips_data['tip'])\n",
    "print(std)"
   ]
  },
  {
   "cell_type": "code",
   "execution_count": 45,
   "metadata": {},
   "outputs": [
    {
     "data": {
      "text/plain": [
       "0      1.01\n",
       "1      1.66\n",
       "2      3.50\n",
       "3      3.31\n",
       "4      3.61\n",
       "       ... \n",
       "239    5.92\n",
       "240    2.00\n",
       "241    2.00\n",
       "242    1.75\n",
       "243    3.00\n",
       "Name: tip, Length: 244, dtype: float64"
      ]
     },
     "execution_count": 45,
     "metadata": {},
     "output_type": "execute_result"
    }
   ],
   "source": [
    "data2=tips_data['tip']\n",
    "data2"
   ]
  },
  {
   "cell_type": "code",
   "execution_count": 46,
   "metadata": {},
   "outputs": [],
   "source": [
    "data3=list()\n",
    "for i in data2:\n",
    "    i=float(float(i-mean)/float(std))\n",
    "    data3.append(i)\n",
    "    "
   ]
  },
  {
   "cell_type": "code",
   "execution_count": 47,
   "metadata": {},
   "outputs": [
    {
     "data": {
      "text/plain": [
       "[-1.4399469546690984,\n",
       " -0.9692053398558095,\n",
       " 0.36335553900027,\n",
       " 0.225754143901001,\n",
       " 0.4430195045840573,\n",
       " 1.239659160421931,\n",
       " -0.7229712644150121,\n",
       " 0.08815274880173195,\n",
       " -0.751939979172753,\n",
       " 0.1678167143855192,\n",
       " -0.9329944464086334,\n",
       " 1.4496823424155523,\n",
       " -1.0343849480607263,\n",
       " 0.0012466045285092927,\n",
       " 0.015730961907379735,\n",
       " 0.6675270439565489,\n",
       " -0.9619631611663743,\n",
       " 0.5154412914784096,\n",
       " 0.36335553900027,\n",
       " 0.2547228586587419,\n",
       " 0.7834019029875126,\n",
       " -0.17980786270737106,\n",
       " -0.5564011545580022,\n",
       " 3.3181644442898377,\n",
       " 0.13160582093834328,\n",
       " -0.47673718897421496,\n",
       " -0.7229712644150121,\n",
       " -0.7229712644150121,\n",
       " 0.942729834155087,\n",
       " 0.0012466045285092927,\n",
       " -1.121291092333949,\n",
       " -0.36086232994325146,\n",
       " 0.0012466045285092927,\n",
       " -0.3970732233904274,\n",
       " 0.1967854291432601,\n",
       " 0.43577732589462226,\n",
       " -0.7229712644150121,\n",
       " 0.05194185535455568,\n",
       " -0.49846372504252046,\n",
       " 1.4496823424155523,\n",
       " -0.5491589758685669,\n",
       " -0.3318936151855106,\n",
       " 0.04469967666512062,\n",
       " -1.2154394152966068,\n",
       " 1.8842130637816648,\n",
       " 0.0012466045285092927,\n",
       " 1.4496823424155523,\n",
       " 2.1739002113590735,\n",
       " -0.6867603709678363,\n",
       " 0.0012466045285092927,\n",
       " -0.36086232994325146,\n",
       " -0.2884405430488992,\n",
       " 1.5945259162042567,\n",
       " -1.0416271267501616,\n",
       " 0.9716985489128279,\n",
       " 0.37059771768970506,\n",
       " 0.0012466045285092927,\n",
       " -1.0850801988867729,\n",
       " -0.8967835529614573,\n",
       " 2.7025792556878447,\n",
       " 0.15333235700664877,\n",
       " -0.7229712644150121,\n",
       " -0.7374556217938826,\n",
       " 0.5516521849255854,\n",
       " -0.25947182829115834,\n",
       " 0.10987928487003745,\n",
       " -0.38258886601155695,\n",
       " -1.4471891333585336,\n",
       " -0.7157290857255771,\n",
       " -0.6577916562100954,\n",
       " -0.7446978004833178,\n",
       " 0.0012466045285092927,\n",
       " 0.10263710618060239,\n",
       " 1.4496823424155523,\n",
       " -0.5781276906263078,\n",
       " -1.2661346661226534,\n",
       " 0.059184034043991064,\n",
       " 0.7254644734720308,\n",
       " 0.0012466045285092927,\n",
       " -0.20877657746511197,\n",
       " 0.0012466045285092927,\n",
       " 0.2909337521059178,\n",
       " -0.8460883021354108,\n",
       " 1.4496823424155523,\n",
       " -0.7012447283467067,\n",
       " 1.5727993801359508,\n",
       " -0.7229712644150121,\n",
       " 0.7254644734720308,\n",
       " 2.065267531017545,\n",
       " 0.0012466045285092927,\n",
       " 0.0012466045285092927,\n",
       " 0.36335553900027,\n",
       " -1.4471891333585336,\n",
       " 0.942729834155087,\n",
       " 0.18230107176438967,\n",
       " 1.2541435178008018,\n",
       " 0.7254644734720308,\n",
       " -1.0850801988867729,\n",
       " 0.0012466045285092927,\n",
       " -1.0850801988867729,\n",
       " -0.36086232994325146,\n",
       " 0.0012466045285092927,\n",
       " -0.36086232994325146,\n",
       " 0.3488711816213996,\n",
       " 0.7834019029875126,\n",
       " -0.98368969723468,\n",
       " 0.7689175456086418,\n",
       " 0.935487655465652,\n",
       " 0.5516521849255854,\n",
       " 0.7254644734720308,\n",
       " 0.0012466045285092927,\n",
       " -1.4471891333585336,\n",
       " 0.7254644734720308,\n",
       " -0.3246514364960755,\n",
       " 0.7254644734720308,\n",
       " 0.36335553900027,\n",
       " 1.500377593241599,\n",
       " -1.0850801988867729,\n",
       " -0.8678148382037164,\n",
       " -0.05669082498697248,\n",
       " -0.49846372504252046,\n",
       " -0.954720982476939,\n",
       " -0.36086232994325146,\n",
       " -0.7229712644150121,\n",
       " -0.346377972564381,\n",
       " 0.8703080472607352,\n",
       " -1.0995645562656433,\n",
       " -0.7229712644150121,\n",
       " -0.7229712644150121,\n",
       " -0.5926120480051782,\n",
       " -1.0850801988867729,\n",
       " -0.12187043319188931,\n",
       " -1.0850801988867729,\n",
       " -0.7229712644150121,\n",
       " 0.18230107176438967,\n",
       " -1.2661346661226534,\n",
       " -0.7229712644150121,\n",
       " -0.7229712644150121,\n",
       " -0.7229712644150121,\n",
       " -0.17980786270737106,\n",
       " 0.36335553900027,\n",
       " 2.680852719619539,\n",
       " 1.4496823424155523,\n",
       " 1.4496823424155523,\n",
       " -0.5057059037319559,\n",
       " -1.0850801988867729,\n",
       " -1.186470700538866,\n",
       " -0.9909318759241152,\n",
       " -0.9185100890297629,\n",
       " -0.7229712644150121,\n",
       " -0.36086232994325146,\n",
       " -0.7229712644150121,\n",
       " -0.18705004139680614,\n",
       " -0.7229712644150121,\n",
       " -0.7229712644150121,\n",
       " 1.551072844067645,\n",
       " 1.4496823424155523,\n",
       " 0.5444100062361504,\n",
       " -0.28119836435946416,\n",
       " -0.7229712644150121,\n",
       " 0.36335553900027,\n",
       " -0.36086232994325146,\n",
       " -0.7229712644150121,\n",
       " -0.7229712644150121,\n",
       " 0.0012466045285092927,\n",
       " 0.3488711816213996,\n",
       " -0.5491589758685669,\n",
       " 1.0875734079437915,\n",
       " -1.0054162333029855,\n",
       " -0.7229712644150121,\n",
       " 5.07077168713316,\n",
       " 0.11712146355947282,\n",
       " 1.5583150227570808,\n",
       " 0.13160582093834328,\n",
       " 0.7254644734720308,\n",
       " 0.08091057011229656,\n",
       " -0.7229712644150121,\n",
       " -0.7229712644150121,\n",
       " 0.7254644734720308,\n",
       " 0.399566432447446,\n",
       " 0.493714755410104,\n",
       " 1.9204239572288415,\n",
       " 0.36335553900027,\n",
       " 2.5360091458308345,\n",
       " 0.0012466045285092927,\n",
       " 1.4496823424155523,\n",
       " 0.36335553900027,\n",
       " -0.7229712644150121,\n",
       " 0.36335553900027,\n",
       " 0.7254644734720308,\n",
       " -1.0850801988867729,\n",
       " 0.8630658685713001,\n",
       " -0.3174092578066401,\n",
       " -0.7084869070361417,\n",
       " 0.7254644734720308,\n",
       " -1.1285332710233842,\n",
       " -0.7229712644150121,\n",
       " 1.4496823424155523,\n",
       " -0.7229712644150121,\n",
       " -0.7229712644150121,\n",
       " 0.7254644734720308,\n",
       " -0.7157290857255771,\n",
       " -0.7229712644150121,\n",
       " -0.36086232994325146,\n",
       " 0.7254644734720308,\n",
       " 0.1678167143855192,\n",
       " 0.2981759307953532,\n",
       " 0.0012466045285092927,\n",
       " -0.7012447283467067,\n",
       " -0.5564011545580022,\n",
       " -0.7229712644150121,\n",
       " 1.5655572014465158,\n",
       " 4.346553818189638,\n",
       " -0.36086232994325146,\n",
       " 2.5360091458308345,\n",
       " -1.3747673464641814,\n",
       " 0.0012466045285092927,\n",
       " -1.0850801988867729,\n",
       " -1.1285332710233842,\n",
       " 0.06642621273342612,\n",
       " -0.5781276906263078,\n",
       " 0.3488711816213996,\n",
       " -0.7809086939304939,\n",
       " 0.0012466045285092927,\n",
       " -1.0271427693712911,\n",
       " -0.36086232994325146,\n",
       " -0.7229712644150121,\n",
       " 0.0012466045285092927,\n",
       " -0.20153439877567658,\n",
       " -0.08565953974471337,\n",
       " -0.7229712644150121,\n",
       " 0.0012466045285092927,\n",
       " 0.28369157341648277,\n",
       " -1.1068067349550785,\n",
       " 0.0012466045285092927,\n",
       " -1.2661346661226534,\n",
       " -1.4471891333585336,\n",
       " -1.324072095638135,\n",
       " 1.21069044566419,\n",
       " 2.1159627818435918,\n",
       " -0.7229712644150121,\n",
       " -0.7229712644150121,\n",
       " -0.9040257316508925,\n",
       " 0.0012466045285092927]"
      ]
     },
     "execution_count": 47,
     "metadata": {},
     "output_type": "execute_result"
    }
   ],
   "source": [
    "data3"
   ]
  },
  {
   "cell_type": "code",
   "execution_count": 57,
   "metadata": {},
   "outputs": [],
   "source": [
    "import itertools \n",
    "outliers_z=[]\n",
    "def detect_outliersz(data1):\n",
    "    for (i,j) in zip(data3,data2):\n",
    "        if i>=2.1:\n",
    "            outliers_z.append(j)\n",
    "    return outliers_z"
   ]
  },
  {
   "cell_type": "code",
   "execution_count": 58,
   "metadata": {},
   "outputs": [
    {
     "name": "stdout",
     "output_type": "stream",
     "text": [
      "[ 5.92  6.    6.5   6.7   6.73  7.58  9.   10.  ]\n"
     ]
    }
   ],
   "source": [
    "out_z=np.unique(detect_outliersz(tips_data['tip']))\n",
    "print(out_z)"
   ]
  },
  {
   "cell_type": "code",
   "execution_count": 61,
   "metadata": {},
   "outputs": [
    {
     "name": "stdout",
     "output_type": "stream",
     "text": [
      "19.785942622950824\n",
      "8.88415057777113\n"
     ]
    }
   ],
   "source": [
    "mean=np.mean(tips_data['total_bill'])\n",
    "print(mean)\n",
    "std=np.std(tips_data['total_bill'])\n",
    "print(std)"
   ]
  },
  {
   "cell_type": "code",
   "execution_count": 62,
   "metadata": {},
   "outputs": [
    {
     "data": {
      "text/plain": [
       "0      16.99\n",
       "1      10.34\n",
       "2      21.01\n",
       "3      23.68\n",
       "4      24.59\n",
       "       ...  \n",
       "239    29.03\n",
       "240    27.18\n",
       "241    22.67\n",
       "242    17.82\n",
       "243    18.78\n",
       "Name: total_bill, Length: 244, dtype: float64"
      ]
     },
     "execution_count": 62,
     "metadata": {},
     "output_type": "execute_result"
    }
   ],
   "source": [
    "data2=tips_data['total_bill']\n",
    "data2"
   ]
  },
  {
   "cell_type": "code",
   "execution_count": 63,
   "metadata": {},
   "outputs": [],
   "source": [
    "data4=list()\n",
    "for i in data2:\n",
    "    i=float(float(i-mean)/float(std))\n",
    "    data4.append(i)"
   ]
  },
  {
   "cell_type": "code",
   "execution_count": 64,
   "metadata": {},
   "outputs": [
    {
     "data": {
      "text/plain": [
       "[-0.3147113050904947,\n",
       " -1.0632353132988699,\n",
       " 0.13777989987156108,\n",
       " 0.4383151031672544,\n",
       " 0.5407447042905058,\n",
       " 0.6195367051545452,\n",
       " -1.239954515236787,\n",
       " 0.7985071071171492,\n",
       " -0.5342033074974618,\n",
       " -0.5634689078183908,\n",
       " -1.071114513385274,\n",
       " 1.7417599174609364,\n",
       " -0.49143050702841173,\n",
       " -0.15262490331304188,\n",
       " -0.5578409077566736,\n",
       " 0.20193910057513573,\n",
       " -1.0643609133112133,\n",
       " -0.39350330595453414,\n",
       " -0.31696250511518154,\n",
       " 0.09725829942719756,\n",
       " -0.21003050394255615,\n",
       " 0.056736698982834455,\n",
       " -0.45203450659639205,\n",
       " 2.2100095225958003,\n",
       " 0.003833498402693769,\n",
       " -0.22241210407833414,\n",
       " -0.7221785095588132,\n",
       " -0.7987193103981659,\n",
       " 0.2154463007232569,\n",
       " -0.01530170180714459,\n",
       " -1.152157714274,\n",
       " -0.16162970341178906,\n",
       " -0.5319521074727749,\n",
       " 0.10176069947657156,\n",
       " -0.22578890411536412,\n",
       " 0.4810879036363043,\n",
       " -0.3912521059298474,\n",
       " -0.3214649051645551,\n",
       " -0.12335930299211276,\n",
       " 1.2926455125359113,\n",
       " -0.4216433062631197,\n",
       " -0.26180810451035363,\n",
       " -0.6580193088552382,\n",
       " -1.1375249141135357,\n",
       " 1.1947183114620337,\n",
       " -0.16838330348584984,\n",
       " 0.27510310137745836,\n",
       " 1.4198383139307178,\n",
       " 0.9864823091785008,\n",
       " -0.1965233037944354,\n",
       " -0.8156033105833173,\n",
       " -1.0688633133605872,\n",
       " 1.6911079169054828,\n",
       " -1.108259313792607,\n",
       " 0.6499279054878175,\n",
       " -0.03331130200463935,\n",
       " 2.0512999208553775,\n",
       " 0.7456039065370086,\n",
       " -0.9619313121879619,\n",
       " 3.2061655335197283,\n",
       " 0.056736698982834455,\n",
       " -0.6726521090157025,\n",
       " -0.9866945124595172,\n",
       " -0.16838330348584984,\n",
       " -0.24717530434988927,\n",
       " 0.0330990987236225,\n",
       " -0.3754937057570394,\n",
       " -1.8815465222725374,\n",
       " 0.049983098908774067,\n",
       " -0.537580107534492,\n",
       " -0.8741345112251752,\n",
       " -0.3057065049917472,\n",
       " 0.7962559070924624,\n",
       " 0.618411105142202,\n",
       " -0.5690969078801078,\n",
       " -1.0441001130890317,\n",
       " -0.21003050394255615,\n",
       " 0.8345263075121387,\n",
       " 0.33475990203165984,\n",
       " -0.280943304720192,\n",
       " -0.03893930206635614,\n",
       " -0.3518561054978275,\n",
       " -1.0936265136321421,\n",
       " 1.451355114276334,\n",
       " -0.4283969063371801,\n",
       " 1.6933591169301692,\n",
       " -0.7604489099784896,\n",
       " -0.16950890349819306,\n",
       " 0.5542519044386269,\n",
       " 0.15466390005671224,\n",
       " 1.0337575096969243,\n",
       " 0.3043687016983871,\n",
       " -1.5798857189645004,\n",
       " -0.39012650591750375,\n",
       " 0.33363430201931626,\n",
       " 2.294429523521557,\n",
       " 0.8435311076108863,\n",
       " -0.8730089112128318,\n",
       " 0.13777989987156108,\n",
       " -0.8246081106820644,\n",
       " -0.9495497120521843,\n",
       " -0.4959329070777853,\n",
       " 2.7593023286193894,\n",
       " 0.2964895016119835,\n",
       " 0.1276494997604703,\n",
       " -0.49818410710247235,\n",
       " 0.0792486992297028,\n",
       " 0.610531905055798,\n",
       " -0.17401130354756705,\n",
       " -0.6163721083985315,\n",
       " -0.6512657087811776,\n",
       " -1.411045717112987,\n",
       " 2.058053520929438,\n",
       " 0.4687063035005267,\n",
       " 0.6668119056729691,\n",
       " -0.2786921046955052,\n",
       " 1.1418151108818928,\n",
       " -1.0283417129162238,\n",
       " -0.8279849107190949,\n",
       " 0.48333910366099114,\n",
       " -0.911279311632508,\n",
       " -0.7165505094970961,\n",
       " -0.6220001084602487,\n",
       " -0.4317737063742105,\n",
       " -0.8223569106573776,\n",
       " 1.1271823107214285,\n",
       " -1.2680945155453727,\n",
       " -0.5927345081393197,\n",
       " -0.946172912015154,\n",
       " 0.34151350210572023,\n",
       " -0.07946090251071965,\n",
       " 0.05448549895814766,\n",
       " -0.9698105122743659,\n",
       " -0.8471201109289329,\n",
       " -0.17176010352287985,\n",
       " -1.269220115557716,\n",
       " -1.0643609133112133,\n",
       " -0.6343817085960263,\n",
       " -0.42614570631249327,\n",
       " -0.745816109818025,\n",
       " -0.26068250449801045,\n",
       " 1.6337023162759678,\n",
       " 2.4092407247805854,\n",
       " 0.8176423073269876,\n",
       " -0.3777449057817262,\n",
       " -1.2872297157552108,\n",
       " -0.12898730305382994,\n",
       " -0.8910185114103265,\n",
       " -1.1262689139901016,\n",
       " -1.3817801167920583,\n",
       " -0.6433865086947737,\n",
       " -0.7491929098550552,\n",
       " -0.284320104757222,\n",
       " 0.5362423042411322,\n",
       " -0.001794501659023419,\n",
       " 1.1328103107831458,\n",
       " 3.194909533396294,\n",
       " 0.5868943047965861,\n",
       " -0.7199273095341262,\n",
       " -0.3709913057076658,\n",
       " 0.19293430047638854,\n",
       " -0.802096110435196,\n",
       " -0.40250810605328136,\n",
       " -0.6726521090157025,\n",
       " -0.2561801044486365,\n",
       " 0.5328655042041018,\n",
       " 0.10963989956297554,\n",
       " 1.342171913079022,\n",
       " -1.0350953129902845,\n",
       " -1.0305929129409106,\n",
       " 3.492067936654957,\n",
       " -0.44753210654701825,\n",
       " -1.411045717112987,\n",
       " 1.35793031325183,\n",
       " -0.33384650530033266,\n",
       " 1.4761183145478889,\n",
       " -0.21340730397958654,\n",
       " -0.5972369081886933,\n",
       " -1.146529714212283,\n",
       " 1.6708471166833012,\n",
       " 1.6730983167079878,\n",
       " 0.3989191027352345,\n",
       " 2.877490329915449,\n",
       " 0.38090950253774014,\n",
       " 2.3372023239906063,\n",
       " 0.10176069947657156,\n",
       " 0.1253982997357831,\n",
       " 1.2014719115360943,\n",
       " -0.1841417036586578,\n",
       " 0.37303030245133617,\n",
       " -0.46103930669513943,\n",
       " 0.0027078983903501713,\n",
       " 0.9741007090427233,\n",
       " -0.48467690695435117,\n",
       " -0.360860905596575,\n",
       " -1.3761521167303412,\n",
       " -1.0632353132988699,\n",
       " 2.6253559271505225,\n",
       " -0.7638257100155198,\n",
       " -0.7064201093860053,\n",
       " -0.12110810296742595,\n",
       " -0.7930913103364486,\n",
       " -0.7638257100155198,\n",
       " -0.3811217058187566,\n",
       " 0.0837510992790768,\n",
       " -0.3732425057323526,\n",
       " 0.76586470675919,\n",
       " 2.1323431217441033,\n",
       " 0.5047255038955163,\n",
       " -0.7908401103117619,\n",
       " 1.1564479110423573,\n",
       " 0.6870727058951507,\n",
       " 3.2129191335937883,\n",
       " -0.7334345096822474,\n",
       " 0.9437095087094509,\n",
       " -0.7750817101389539,\n",
       " 0.9414583086847638,\n",
       " -0.9225353117559422,\n",
       " -1.3558913165081594,\n",
       " 1.1654527111411048,\n",
       " -0.8583761110523671,\n",
       " -0.7165505094970961,\n",
       " -1.261340915471312,\n",
       " -0.4283969063371801,\n",
       " -0.7165505094970961,\n",
       " -0.39575450597922096,\n",
       " -1.0913753136074553,\n",
       " 0.07474629918032921,\n",
       " -0.732308909669904,\n",
       " 0.2627215012416808,\n",
       " 0.47545990357458756,\n",
       " -0.46103930669513943,\n",
       " -0.9202841117312553,\n",
       " -1.0148345127681029,\n",
       " -0.4790489068926342,\n",
       " -1.0936265136321421,\n",
       " -0.8088497105092567,\n",
       " 1.468239114461485,\n",
       " 1.8059191181645113,\n",
       " 1.0405111097709852,\n",
       " 0.8322751074874519,\n",
       " 0.32462950192056905,\n",
       " -0.22128650406599054,\n",
       " -0.11322890288102197]"
      ]
     },
     "execution_count": 64,
     "metadata": {},
     "output_type": "execute_result"
    }
   ],
   "source": [
    "data4"
   ]
  },
  {
   "cell_type": "code",
   "execution_count": 65,
   "metadata": {},
   "outputs": [],
   "source": [
    "import itertools \n",
    "outliers_zt=[]\n",
    "def detect_outlierszt(data):\n",
    "    for (i,j) in zip(data4,data2):\n",
    "        if i>=2.3:\n",
    "            outliers_zt.append(j)\n",
    "    return outliers_zt"
   ]
  },
  {
   "cell_type": "code",
   "execution_count": 66,
   "metadata": {},
   "outputs": [
    {
     "name": "stdout",
     "output_type": "stream",
     "text": [
      "[40.55 41.19 43.11 44.3  45.35 48.17 48.27 48.33 50.81]\n"
     ]
    }
   ],
   "source": [
    "out_zt=np.unique(detect_outlierszt(tips_data['total_bill']))\n",
    "print(out_zt)"
   ]
  },
  {
   "cell_type": "code",
   "execution_count": 70,
   "metadata": {},
   "outputs": [
    {
     "data": {
      "text/plain": [
       "<matplotlib.axes._subplots.AxesSubplot at 0x2522aeb3208>"
      ]
     },
     "execution_count": 70,
     "metadata": {},
     "output_type": "execute_result"
    },
    {
     "data": {
      "image/png": "[encoded data removed]",
      "text/plain": [
       "<Figure size 432x288 with 1 Axes>"
      ]
     },
     "metadata": {
      "needs_background": "light"
     },
     "output_type": "display_data"
    }
   ],
   "source": [
    "sns.scatterplot(x=\"tip\",y=tips_data.index,data=tips_data,ec=\"black\")"
   ]
  },
  {
   "cell_type": "code",
   "execution_count": 73,
   "metadata": {},
   "outputs": [
    {
     "data": {
      "text/plain": [
       "<matplotlib.axes._subplots.AxesSubplot at 0x2522af71848>"
      ]
     },
     "execution_count": 73,
     "metadata": {},
     "output_type": "execute_result"
    },
    {
     "data": {
      "image/png": "[encoded data removed]",
      "text/plain": [
       "<Figure size 432x288 with 1 Axes>"
      ]
     },
     "metadata": {
      "needs_background": "light"
     },
     "output_type": "display_data"
    }
   ],
   "source": [
    "sns.scatterplot(x=\"tip\",y='total_bill',data=tips_data,ec=\"black\")"
   ]
  },
  {
   "cell_type": "code",
   "execution_count": null,
   "metadata": {},
   "outputs": [],
   "source": []
  }
 ],
 "metadata": {
  "kernelspec": {
   "display_name": "Python 3",
   "language": "python",
   "name": "python3"
  },
  "language_info": {
   "codemirror_mode": {
    "name": "ipython",
    "version": 3
   },
   "file_extension": ".py",
   "mimetype": "text/x-python",
   "name": "python",
   "nbconvert_exporter": "python",
   "pygments_lexer": "ipython3",
   "version": "3.7.6"
  }
 },
 "nbformat": 4,
 "nbformat_minor": 4
}
