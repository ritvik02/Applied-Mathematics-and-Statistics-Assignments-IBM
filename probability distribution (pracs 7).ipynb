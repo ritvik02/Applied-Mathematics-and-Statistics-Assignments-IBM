{
 "cells": [
  {
   "cell_type": "markdown",
   "metadata": {},
   "source": [
    "# NAME : Ritvik Khandelwal\n",
    "# SAP ID : 60002180081\n",
    "# CLASS : TE EXTC 2"
   ]
  },
  {
   "cell_type": "code",
   "execution_count": 4,
   "metadata": {},
   "outputs": [],
   "source": [
    "import matplotlib.pyplot as plt\n",
    "import seaborn as sns\n",
    "from scipy.stats import norm"
   ]
  },
  {
   "cell_type": "raw",
   "metadata": {},
   "source": [
    "Generate random numbers from gaussian or normal distribution. we can specify mean and variance of the normal distribution using loc and scale arguments to norm.rvs. To generate 10k random numbers from normal distribution mean=0 and variance=1, we use norm.rvs function as:-"
   ]
  },
  {
   "cell_type": "code",
   "execution_count": 5,
   "metadata": {},
   "outputs": [],
   "source": [
    "#generate random numbers from N(0,1)\n",
    "data_normal=norm.rvs(size=10000,loc=0,scale=1)"
   ]
  },
  {
   "cell_type": "code",
   "execution_count": 6,
   "metadata": {},
   "outputs": [
    {
     "data": {
      "text/plain": [
       "[Text(0, 0.5, 'Frequency'), Text(0.5, 0, 'Normal')]"
      ]
     },
     "execution_count": 6,
     "metadata": {},
     "output_type": "execute_result"
    },
    {
     "data": {
      "image/png": "[encoded data removed]",
      "text/plain": [
       "<Figure size 432x288 with 1 Axes>"
      ]
     },
     "metadata": {
      "needs_background": "light"
     },
     "output_type": "display_data"
    }
   ],
   "source": [
    "#plot the distribution of normal random varibales using seaborn distplot\n",
    "ax=sns.distplot(data_normal,\n",
    "               bins=100,\n",
    "               kde=False,\n",
    "               color='skyblue',\n",
    "               hist_kws={'linewidth':15,'alpha':1})\n",
    "ax.set(xlabel='Normal',ylabel='Frequency')"
   ]
  },
  {
   "cell_type": "code",
   "execution_count": 7,
   "metadata": {},
   "outputs": [],
   "source": [
    "from scipy.stats import binom"
   ]
  },
  {
   "cell_type": "raw",
   "metadata": {},
   "source": [
    "\n",
    "binomial distribution is a discrete probability distribution like bernoulli. it can be used to obtain the number of succeses from N bernoulli trials. for ex, to find the number of succeses in 10 bernoulli trials with p=0.5, we will use"
   ]
  },
  {
   "cell_type": "code",
   "execution_count": 10,
   "metadata": {},
   "outputs": [
    {
     "data": {
      "text/plain": [
       "6"
      ]
     },
     "execution_count": 10,
     "metadata": {},
     "output_type": "execute_result"
    }
   ],
   "source": [
    "binom.rvs(n=10,p=0.5)"
   ]
  },
  {
   "cell_type": "code",
   "execution_count": 9,
   "metadata": {},
   "outputs": [
    {
     "data": {
      "text/plain": [
       "array([4, 3, 3, 7, 5])"
      ]
     },
     "execution_count": 9,
     "metadata": {},
     "output_type": "execute_result"
    }
   ],
   "source": [
    "binom.rvs(size=5,n=10,p=0.5)#size is number of times you are repeating."
   ]
  },
  {
   "cell_type": "code",
   "execution_count": 12,
   "metadata": {},
   "outputs": [
    {
     "data": {
      "text/plain": [
       "[Text(0, 0.5, 'Frequency'), Text(0.5, 0, 'Binomial')]"
      ]
     },
     "execution_count": 12,
     "metadata": {},
     "output_type": "execute_result"
    },
    {
     "data": {
      "image/png": "[encoded data removed]",
      "text/plain": [
       "<Figure size 432x288 with 1 Axes>"
      ]
     },
     "metadata": {
      "needs_background": "light"
     },
     "output_type": "display_data"
    }
   ],
   "source": [
    "binom=binom.rvs(n=10,p=0.5,size=10000)\n",
    "ax=sns.distplot(binom,\n",
    "               kde=False,\n",
    "               color='skyblue',\n",
    "               hist_kws={'linewidth':15,'alpha':1})\n",
    "ax.set(xlabel='Binomial',ylabel='Frequency')"
   ]
  },
  {
   "cell_type": "code",
   "execution_count": 13,
   "metadata": {},
   "outputs": [],
   "source": [
    "#uniform distribution"
   ]
  },
  {
   "cell_type": "code",
   "execution_count": 16,
   "metadata": {},
   "outputs": [
    {
     "data": {
      "text/plain": [
       "[Text(0, 0.5, 'Frequency'), Text(0.5, 0, 'Uniform')]"
      ]
     },
     "execution_count": 16,
     "metadata": {},
     "output_type": "execute_result"
    },
    {
     "data": {
      "image/png": "[encoded data removed]",
      "text/plain": [
       "<Figure size 432x288 with 1 Axes>"
      ]
     },
     "metadata": {
      "needs_background": "light"
     },
     "output_type": "display_data"
    }
   ],
   "source": [
    "from scipy.stats import uniform\n",
    "#random numbers from uniform distribution\n",
    "#generate 10 numbers from 0 to 10\n",
    "n=10000\n",
    "a=0\n",
    "b=10\n",
    "#uniform distribution\n",
    "data_uniform=uniform.rvs(size=n,loc=a,scale=b)\n",
    "ax=sns.distplot(data_uniform,\n",
    "                bins=100,\n",
    "                kde=False,\n",
    "                color='skyblue',\n",
    "                hist_kws={'linewidth':15,'alpha':1})\n",
    "ax.set(xlabel='Uniform',ylabel='Frequency')"
   ]
  },
  {
   "cell_type": "code",
   "execution_count": 19,
   "metadata": {},
   "outputs": [
    {
     "data": {
      "text/plain": [
       "[Text(0, 0.5, 'Frequency'), Text(0.5, 0, 'Bernoulli')]"
      ]
     },
     "execution_count": 19,
     "metadata": {},
     "output_type": "execute_result"
    },
    {
     "data": {
      "image/png": "[encoded data removed]",
      "text/plain": [
       "<Figure size 432x288 with 1 Axes>"
      ]
     },
     "metadata": {
      "needs_background": "light"
     },
     "output_type": "display_data"
    }
   ],
   "source": [
    "#bernoulli\n",
    "from scipy.stats import bernoulli\n",
    "data_bern=bernoulli.rvs(size=10000,p=0.3)\n",
    "ax=sns.distplot(data_bern,\n",
    "                kde=False,\n",
    "                color='skyblue',\n",
    "                hist_kws={'linewidth':15,'alpha':1})\n",
    "ax.set(xlabel='Bernoulli',ylabel='Frequency')"
   ]
  },
  {
   "cell_type": "code",
   "execution_count": 21,
   "metadata": {},
   "outputs": [
    {
     "data": {
      "text/plain": [
       "[Text(0, 0.5, 'Frequency'), Text(0.5, 0, 'poisson')]"
      ]
     },
     "execution_count": 21,
     "metadata": {},
     "output_type": "execute_result"
    },
    {
     "data": {
      "image/png": "[encoded data removed]",
      "text/plain": [
       "<Figure size 432x288 with 1 Axes>"
      ]
     },
     "metadata": {
      "needs_background": "light"
     },
     "output_type": "display_data"
    }
   ],
   "source": [
    "#poisson\n",
    "from scipy.stats import poisson\n",
    "data_poisson=poisson.rvs(mu=3,size=10000)\n",
    "ax=sns.distplot(data_poisson,\n",
    "                kde=False,\n",
    "                color='green',\n",
    "                hist_kws={'linewidth':15,'alpha':1})\n",
    "ax.set(xlabel='poisson',ylabel='Frequency')"
   ]
  },
  {
   "cell_type": "code",
   "execution_count": 23,
   "metadata": {},
   "outputs": [
    {
     "data": {
      "text/plain": [
       "[Text(0, 0.5, 'Frequency'), Text(0.5, 0, 'Gamma')]"
      ]
     },
     "execution_count": 23,
     "metadata": {},
     "output_type": "execute_result"
    },
    {
     "data": {
      "image/png": "[encoded data removed]",
      "text/plain": [
       "<Figure size 432x288 with 1 Axes>"
      ]
     },
     "metadata": {
      "needs_background": "light"
     },
     "output_type": "display_data"
    }
   ],
   "source": [
    "#gamma\n",
    "from scipy.stats import gamma\n",
    "data_gam=gamma.rvs(a=5,size=10000)\n",
    "ax=sns.distplot(data_gam,\n",
    "                kde=False,\n",
    "                bins=100,\n",
    "                color='skyblue',\n",
    "                hist_kws={'linewidth':15,'alpha':1})\n",
    "ax.set(xlabel='Gamma',ylabel='Frequency')"
   ]
  },
  {
   "cell_type": "code",
   "execution_count": 25,
   "metadata": {},
   "outputs": [
    {
     "data": {
      "text/plain": [
       "[Text(0, 0.5, 'Frequency'), Text(0.5, 0, 'log normal')]"
      ]
     },
     "execution_count": 25,
     "metadata": {},
     "output_type": "execute_result"
    },
    {
     "data": {
      "image/png": "[encoded data removed]",
      "text/plain": [
       "<Figure size 432x288 with 1 Axes>"
      ]
     },
     "metadata": {
      "needs_background": "light"
     },
     "output_type": "display_data"
    }
   ],
   "source": [
    "#lognorm distribution\n",
    "from scipy.stats import lognorm\n",
    "data_log=lognorm.rvs(0.2,size=10000)\n",
    "ax=sns.distplot(data_log,\n",
    "                kde=False,\n",
    "                color='skyblue',\n",
    "                hist_kws={'linewidth':15,'alpha':1})\n",
    "ax.set(xlabel='log normal',ylabel='Frequency')"
   ]
  },
  {
   "cell_type": "code",
   "execution_count": 26,
   "metadata": {},
   "outputs": [
    {
     "data": {
      "text/plain": [
       "[Text(0, 0.5, 'Frequency'), Text(0.5, 0, 'expon')]"
      ]
     },
     "execution_count": 26,
     "metadata": {},
     "output_type": "execute_result"
    },
    {
     "data": {
      "image/png": "[encoded data removed]",
      "text/plain": [
       "<Figure size 432x288 with 1 Axes>"
      ]
     },
     "metadata": {
      "needs_background": "light"
     },
     "output_type": "display_data"
    }
   ],
   "source": [
    "#exponential distribution\n",
    "from scipy.stats import expon\n",
    "data_expon=expon.rvs(scale=1,loc=0,size=10000)\n",
    "ax=sns.distplot(data_expon,\n",
    "                kde=False,\n",
    "                bins=100,\n",
    "                color='skyblue',\n",
    "                hist_kws={'linewidth':15,'alpha':1})\n",
    "ax.set(xlabel='expon',ylabel='Frequency')"
   ]
  },
  {
   "cell_type": "code",
   "execution_count": 27,
   "metadata": {},
   "outputs": [
    {
     "data": {
      "text/plain": [
       "[Text(0, 0.5, 'Frequency'), Text(0.5, 0, 'Beta(1,1)')]"
      ]
     },
     "execution_count": 27,
     "metadata": {},
     "output_type": "execute_result"
    },
    {
     "data": {
      "image/png": "[encoded data removed]",
      "text/plain": [
       "<Figure size 432x288 with 1 Axes>"
      ]
     },
     "metadata": {
      "needs_background": "light"
     },
     "output_type": "display_data"
    }
   ],
   "source": [
    "#beta distribution\n",
    "from scipy.stats import beta\n",
    "data_beta=beta.rvs(1,1,size=10000)\n",
    "ax=sns.distplot(data_beta,\n",
    "                kde=False,\n",
    "                bins=100,\n",
    "                color='skyblue',\n",
    "                hist_kws={'linewidth':15,'alpha':1})\n",
    "ax.set(xlabel='Beta(1,1)',ylabel='Frequency')"
   ]
  },
  {
   "cell_type": "code",
   "execution_count": null,
   "metadata": {},
   "outputs": [],
   "source": []
  }
 ],
 "metadata": {
  "kernelspec": {
   "display_name": "Python 3",
   "language": "python",
   "name": "python3"
  },
  "language_info": {
   "codemirror_mode": {
    "name": "ipython",
    "version": 3
   },
   "file_extension": ".py",
   "mimetype": "text/x-python",
   "name": "python",
   "nbconvert_exporter": "python",
   "pygments_lexer": "ipython3",
   "version": "3.7.6"
  }
 },
 "nbformat": 4,
 "nbformat_minor": 4
}
