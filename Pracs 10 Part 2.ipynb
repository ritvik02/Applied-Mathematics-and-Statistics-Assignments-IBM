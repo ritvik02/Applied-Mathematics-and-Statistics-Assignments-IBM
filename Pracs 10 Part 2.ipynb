{
 "cells": [
  {
   "cell_type": "markdown",
   "metadata": {},
   "source": [
    "# Applied Statistics Practical 10 part 2"
   ]
  },
  {
   "cell_type": "markdown",
   "metadata": {},
   "source": [
    "ANOVA: Tests whether the means of two or more independent samples are significantly different.\n",
    "\n",
    "Assumptions\n",
    "\n",
    "\n",
    "Observations in each sample are independent and identically distributed (iid). Observations in each sample are normally distributed. Observations in each sample have the same variance. Interpretation\n",
    "\n",
    "H0: the means of the samples are equal. H1: one or more of the means of the samples are unequal."
   ]
  },
  {
   "cell_type": "code",
   "execution_count": 1,
   "metadata": {},
   "outputs": [
    {
     "name": "stdout",
     "output_type": "stream",
     "text": [
      "stat=0.096, p=0.908\n",
      "Probably the same distribution\n"
     ]
    }
   ],
   "source": [
    "from scipy.stats import f_oneway\n",
    "data1 = [0.873, 2.817, 0.121, -0.945, -0.055, -1.436, 0.360, -1.478, -1.637, -1.869]\n",
    "data2 = [1.142, -0.432, -0.938, -0.729, -0.846, -0.157, 0.500, 1.183, -1.075, -0.169]\n",
    "data3 = [-0.208, 0.696, 0.928, -1.148, -0.213, 0.229, 0.137, 0.269, -0.870, -1.204]\n",
    "stat, p=f_oneway(data1,data2,data3)\n",
    "print('stat=%.3f, p=%.3f' % (stat,p))\n",
    "if p>0.05:\n",
    "    print('Probably the same distribution')\n",
    "else:\n",
    "    print('Probably the same distribution')"
   ]
  },
  {
   "cell_type": "markdown",
   "metadata": {},
   "source": [
    "An F-test is used to test whether two population variances are equal. The null and alternative hypotheses for the test are as follows:\n",
    "\n",
    "H0: σ12 = σ22 (the population variances are equal)\n",
    "\n",
    "H1: σ12 ≠ σ22 (the population variances are not equal)"
   ]
  },
  {
   "cell_type": "code",
   "execution_count": 2,
   "metadata": {},
   "outputs": [],
   "source": [
    "x = [18, 19, 22, 25, 27, 28, 41, 45, 51, 55]\n",
    "y = [14, 15, 15, 17, 18, 22, 25, 25, 27, 34]"
   ]
  },
  {
   "cell_type": "code",
   "execution_count": 3,
   "metadata": {},
   "outputs": [
    {
     "data": {
      "text/plain": [
       "(4.387122002085505, 0.01912653593238578)"
      ]
     },
     "execution_count": 3,
     "metadata": {},
     "output_type": "execute_result"
    }
   ],
   "source": [
    "import numpy as np\n",
    "import scipy\n",
    "def f_test(x,y):\n",
    "    x=np.array(x)\n",
    "    y=np.array(y)\n",
    "    f=np.var(x,ddof=1)/np.var(y,ddof=1)\n",
    "    dfn=x.size-1\n",
    "    dfd=y.size-1\n",
    "    p=1-scipy.stats.f.cdf(f,dfn,dfd)\n",
    "    return f,p\n",
    "f_test(x,y)"
   ]
  },
  {
   "cell_type": "markdown",
   "metadata": {},
   "source": [
    "Kruskal-Wallis H-test for independent samples. The Kruskal-Wallis H-test tests the null hypothesis that the population median of all of the groups are equal. It is a non-parametric version of ANOVA. The test works on 2 or more independent samples, which may have different sizes. Note that rejecting the null hypothesis does not indicate which of the groups differs. Post hoc comparisons between groups are required to determine which groups are different."
   ]
  },
  {
   "cell_type": "code",
   "execution_count": 4,
   "metadata": {},
   "outputs": [
    {
     "name": "stdout",
     "output_type": "stream",
     "text": [
      "KruskalResult(statistic=0.2727272727272734, pvalue=0.6015081344405895)\n"
     ]
    }
   ],
   "source": [
    "from scipy import stats\n",
    "x=[1,3,5,7,9]\n",
    "y=[2,4,6,8,10]\n",
    "print(stats.kruskal(x,y))"
   ]
  },
  {
   "cell_type": "markdown",
   "metadata": {},
   "source": [
    "p>0.05, fail to reject null, conclusion: population median of all groups will be same"
   ]
  },
  {
   "cell_type": "code",
   "execution_count": 5,
   "metadata": {},
   "outputs": [
    {
     "data": {
      "text/plain": [
       "KruskalResult(statistic=7.0, pvalue=0.0301973834223185)"
      ]
     },
     "execution_count": 5,
     "metadata": {},
     "output_type": "execute_result"
    }
   ],
   "source": [
    "x=[1,1,1]\n",
    "y=[2,2,2]\n",
    "z=[2,2]\n",
    "stats.kruskal(x,y,z)"
   ]
  },
  {
   "cell_type": "code",
   "execution_count": 6,
   "metadata": {},
   "outputs": [],
   "source": [
    "group1=[7,14,14,13,12,9,6,14,12,8]\n",
    "group2=[15,17,13,15,15,13,9,12,10,8]\n",
    "group3=[6,8,8,9,5,14,13,8,10,9]"
   ]
  },
  {
   "cell_type": "code",
   "execution_count": 7,
   "metadata": {},
   "outputs": [
    {
     "name": "stdout",
     "output_type": "stream",
     "text": [
      "KruskalResult(statistic=6.287801578353988, pvalue=0.043114289703508814)\n"
     ]
    }
   ],
   "source": [
    "print(stats.kruskal(group1,group2,group3))"
   ]
  },
  {
   "cell_type": "markdown",
   "metadata": {},
   "source": [
    "p<0.05, reject null, conclusion: population median of all groups is not same but we do not know which group differ."
   ]
  },
  {
   "cell_type": "markdown",
   "metadata": {},
   "source": [
    "#### A Mann-Wehiteney\n",
    "A Mann-Whitney U test\n",
    "(sometimes called the Wilcoxon rank-sum test) is used to compare the differences between two samples when the sample distributions are not normally distributed and the sample sizes are small (n <30). It is considered to be the nonparametric equivalent to the two sample t-test. Researchers want to know if a fuel treatment leads to a change in the average mpg of a car. To test this, they measure the mpg of 12 cars with the fuel treatment and 12 cars without it. Since the sample sizes are small and the researchers suspect that the sample distributions are not normally distributed, they decided to perform a Mann-Whitney U test to determine if there is a statistically significant difference in mpg between the two groups"
   ]
  },
  {
   "cell_type": "code",
   "execution_count": 8,
   "metadata": {},
   "outputs": [],
   "source": [
    "group1 = [20, 23, 21, 25, 18, 17, 18, 24, 20, 24, 23, 19]\n",
    "group2 = [24, 25, 21, 22, 23, 18, 17, 28, 24, 27, 21, 23]"
   ]
  },
  {
   "cell_type": "code",
   "execution_count": 9,
   "metadata": {
    "scrolled": true
   },
   "outputs": [
    {
     "data": {
      "text/plain": [
       "MannwhitneyuResult(statistic=50.0, pvalue=0.21138945901258455)"
      ]
     },
     "execution_count": 9,
     "metadata": {},
     "output_type": "execute_result"
    }
   ],
   "source": [
    "import scipy.stats as stats\n",
    "stats.mannwhitneyu(group1,group2,alternative='two-sided')"
   ]
  },
  {
   "cell_type": "markdown",
   "metadata": {},
   "source": [
    "The test statistic is 50.0 and the corresponding two-sided p-value is 0.2114.\n",
    "\n",
    "In this example, the Mann-Whitney U Test uses the following null and alternative hypotheses:\n",
    "\n",
    "H0: The mpg is equal between the two groups\n",
    "\n",
    "HA: The mpg is not equal between the two groups\n",
    "\n",
    "Since the p-value (0.2114) is not less than 0.05, we fail to reject the null hypothesis. We do not have sufficient evidence to say that the true mean mpg is different between the two groups."
   ]
  }
 ],
 "metadata": {
  "kernelspec": {
   "display_name": "Python 3",
   "language": "python",
   "name": "python3"
  },
  "language_info": {
   "codemirror_mode": {
    "name": "ipython",
    "version": 3
   },
   "file_extension": ".py",
   "mimetype": "text/x-python",
   "name": "python",
   "nbconvert_exporter": "python",
   "pygments_lexer": "ipython3",
   "version": "3.7.6"
  },
  "toc": {
   "base_numbering": 1,
   "nav_menu": {},
   "number_sections": true,
   "sideBar": true,
   "skip_h1_title": false,
   "title_cell": "Table of Contents",
   "title_sidebar": "Contents",
   "toc_cell": false,
   "toc_position": {},
   "toc_section_display": true,
   "toc_window_display": false
  }
 },
 "nbformat": 4,
 "nbformat_minor": 4
}
